{
 "cells": [
  {
   "cell_type": "markdown",
   "metadata": {},
   "source": [
    "The below section of code reads in 'FPL_Database.csv' (which is every players data from the previous season) and converts their points to account for position changes if applicable. This is then merged with 'players.csv' (which is a list of players in the current years game) and finally we end up with two csv which we manually check called 'true.csv' and 'false.csv'. True contains all the players in this years game that were also in last years. False contains players in this years game that were not in last years so we do a manual check on this file to make sure this is correct (and manually update if necessary) and then add all of these players to 'true.csv' so we have a complete player list matching 'players.csv'. We then download expected points csv from fplreview.com and merge this with 'true.csv' to create our final database file, 'player_dataset.csv'."
   ]
  },
  {
   "cell_type": "code",
   "execution_count": 2,
   "metadata": {},
   "outputs": [],
   "source": [
    "import pandas as pd\n",
    "import numpy as np"
   ]
  },
  {
   "cell_type": "code",
   "execution_count": 73,
   "metadata": {},
   "outputs": [],
   "source": [
    "df= pd.read_csv('FPL_Database.csv')"
   ]
  },
  {
   "cell_type": "code",
   "execution_count": 74,
   "metadata": {},
   "outputs": [],
   "source": [
    "# replace position values with Text values\n",
    "df['Position'] = df['Position'].replace([1, 2, 3, 4], ['GK', 'DEF', 'MID', 'FWD']) "
   ]
  },
  {
   "cell_type": "code",
   "execution_count": 75,
   "metadata": {},
   "outputs": [],
   "source": [
    "# add extra columns for appearance and goals conceded.\n",
    "df['>60mins'] = np.where(df['minutes'] > 59, 1,0)\n",
    "df['<60mins'] = np.where((df['minutes'] < 60) & (df['minutes'] > 0), 1,0)\n",
    "df['2 goals conceded'] = np.where(df['goals_conceded'] > 1, 1,0)"
   ]
  },
  {
   "cell_type": "code",
   "execution_count": 76,
   "metadata": {},
   "outputs": [],
   "source": [
    "# drop unneccessary columns\n",
    "df.drop(['Round','Team ID','Short Name','goals_conceded','value'],axis=1,inplace=True)"
   ]
  },
  {
   "cell_type": "code",
   "execution_count": 77,
   "metadata": {},
   "outputs": [],
   "source": [
    "# group all GW together to get each player total stats for the season\n",
    "df_grouped = df.groupby(['Player ID','Player Name','Position','Team Name'],as_index=False).sum()"
   ]
  },
  {
   "cell_type": "code",
   "execution_count": 78,
   "metadata": {},
   "outputs": [],
   "source": [
    "# read in new seasons player list\n",
    "df1 = pd.read_csv('players.csv')"
   ]
  },
  {
   "cell_type": "code",
   "execution_count": 79,
   "metadata": {},
   "outputs": [],
   "source": [
    "# merge df1 and df_grouped on Name and team to avoid mishaps with players with same name on diff teams. \n",
    "# will be additional false names as some players will move clubs but need to address manually as ID different each year.\n",
    "df_merged = pd.merge(df1, df_grouped, on=['Player Name','Team Name'])"
   ]
  },
  {
   "cell_type": "code",
   "execution_count": 80,
   "metadata": {},
   "outputs": [],
   "source": [
    "# drop column not needed\n",
    "df_merged.drop(['Player ID'],axis=1,inplace=True)"
   ]
  },
  {
   "cell_type": "code",
   "execution_count": 81,
   "metadata": {},
   "outputs": [],
   "source": [
    "# rename some columns\n",
    "df_merged.rename(columns={'Position_x':'new_pos', 'Position_y':'old_pos'}, inplace=True)"
   ]
  },
  {
   "cell_type": "code",
   "execution_count": 82,
   "metadata": {},
   "outputs": [],
   "source": [
    "# Check if player and team name is in the merged df. This will add a true/false column into df1\n",
    "# All false players will need data added manually.\n",
    "df1 = df1.assign(Result=(df1['Player Name'].isin(df_merged['Player Name']) & (df1['Team Name'].isin(df_merged['Team Name']))))"
   ]
  },
  {
   "cell_type": "code",
   "execution_count": 83,
   "metadata": {},
   "outputs": [],
   "source": [
    "# create df of players whose data needs to be added manually.\n",
    "df_false = df1[df1['Result'] == False]"
   ]
  },
  {
   "cell_type": "code",
   "execution_count": 84,
   "metadata": {},
   "outputs": [],
   "source": [
    "# get dataset of all players with a position change\n",
    "position_change = df_merged.loc[df_merged['new_pos'] != df_merged['old_pos']]"
   ]
  },
  {
   "cell_type": "code",
   "execution_count": 85,
   "metadata": {},
   "outputs": [],
   "source": [
    "# re-evaluate points based on position change\n",
    "# use .copy to prevent SettingswithCopyWarnings.\n",
    "def_to_mid = position_change.loc[(position_change['old_pos'] == \"DEF\") & (position_change['new_pos'] == \"MID\")].copy()\n",
    "mid_to_def = position_change.loc[(position_change['old_pos'] == \"MID\") & (position_change['new_pos'] == \"DEF\")].copy()\n",
    "mid_to_fwd = position_change.loc[(position_change['old_pos'] == \"MID\") & (position_change['new_pos'] == \"FWD\")].copy()\n",
    "fwd_to_mid = position_change.loc[(position_change['old_pos'] == \"FWD\") & (position_change['new_pos'] == \"MID\")].copy()"
   ]
  },
  {
   "cell_type": "code",
   "execution_count": 86,
   "metadata": {},
   "outputs": [],
   "source": [
    "# evaluate the points\n",
    "def_to_mid['total_points'] = def_to_mid['total_points'] - def_to_mid['goals_scored'] - (def_to_mid['clean_sheets'] * 3) + def_to_mid['2 goals conceded']\n",
    "mid_to_def['total_points'] = mid_to_def['total_points'] + mid_to_def['goals_scored'] + (mid_to_def['clean_sheets'] * 3) - mid_to_def['2 goals conceded']\n",
    "mid_to_fwd['total_points'] = mid_to_fwd['total_points'] - mid_to_fwd['goals_scored'] - mid_to_fwd['clean_sheets']\n",
    "fwd_to_mid['total_points'] = fwd_to_mid['total_points'] + fwd_to_mid['goals_scored'] + fwd_to_mid['clean_sheets']"
   ]
  },
  {
   "cell_type": "code",
   "execution_count": 87,
   "metadata": {},
   "outputs": [],
   "source": [
    "# merge four position change df's together\n",
    "position_change_merge = pd.concat([def_to_mid, mid_to_def,mid_to_fwd,fwd_to_mid], axis=0)"
   ]
  },
  {
   "cell_type": "code",
   "execution_count": 88,
   "metadata": {},
   "outputs": [],
   "source": [
    "# update original merged df with new calculated values\n",
    "df_merged.update(position_change_merge)"
   ]
  },
  {
   "cell_type": "code",
   "execution_count": 89,
   "metadata": {},
   "outputs": [],
   "source": [
    "# drop unnecessary columns. Only concerned with total points and value\n",
    "df_merged.drop(['goals_scored','assists','clean_sheets','own_goals','yellow_cards','red_cards','bonus','penalties_saved','penalties_missed','saves','>60mins','<60mins','2 goals conceded'],axis=1,inplace=True)"
   ]
  },
  {
   "cell_type": "code",
   "execution_count": 90,
   "metadata": {},
   "outputs": [],
   "source": [
    "# rename position column. Leave 'Old_pos' for manual check needed below and delete then.\n",
    "df_merged.rename(columns={\"new_pos\":'Position'}, inplace=True)"
   ]
  },
  {
   "cell_type": "code",
   "execution_count": 91,
   "metadata": {},
   "outputs": [],
   "source": [
    "# if minutes played > 1000 then points per minute is calculated points/mins\n",
    "df_merged.loc[df_merged['minutes'] > 1000, 'points_per_minute'] = df_merged['total_points']/df_merged['minutes']"
   ]
  },
  {
   "cell_type": "code",
   "execution_count": 92,
   "metadata": {},
   "outputs": [],
   "source": [
    "#create two csv true and false that need to be manually merged together to check for data error, names changes etc in FPL.\n",
    "df_false.to_csv('false.csv',index=False)\n",
    "df_merged.to_csv('true.csv',index=False)"
   ]
  },
  {
   "cell_type": "markdown",
   "metadata": {},
   "source": [
    "Next step is to manually check 'false.csv' to see if any of those players were in the league last season with different teams or names and manually update 'true.csv'. Also do quality checks on data, no duplicate names or missing players etc. FPL sometimes have players on same team with exact same name etc. Make sure all players in 'players.csv' are contained in either false.csv or true.csv. Finally add all false.csv players with 0 total points to 'true.csv'. Once this done false.csv can be deleted."
   ]
  },
  {
   "cell_type": "code",
   "execution_count": 4,
   "metadata": {},
   "outputs": [],
   "source": [
    "# Read in true csv\n",
    "df_true= pd.read_csv('true.csv')"
   ]
  },
  {
   "cell_type": "code",
   "execution_count": 5,
   "metadata": {},
   "outputs": [],
   "source": [
    "# drop column not needed\n",
    "df_true.drop(['old_pos'],axis=1,inplace=True)"
   ]
  },
  {
   "cell_type": "code",
   "execution_count": 6,
   "metadata": {},
   "outputs": [],
   "source": [
    "# Read in fplreview csv\n",
    "df_fplreview= pd.read_csv('fplreview.csv')"
   ]
  },
  {
   "cell_type": "code",
   "execution_count": 7,
   "metadata": {},
   "outputs": [],
   "source": [
    "# merge df_true and df_fplreview\n",
    "df_final = pd.merge(df_true, df_fplreview, left_on=['Player Name', 'Team Name'],\n",
    "                   right_on= ['Name', 'Team'], \n",
    "                   how = 'left')"
   ]
  },
  {
   "cell_type": "code",
   "execution_count": 8,
   "metadata": {},
   "outputs": [],
   "source": [
    "#drop unnecessary columns\n",
    "df_final.drop(['Pos','Name','BV','SV','Team'],axis=1,inplace=True)"
   ]
  },
  {
   "cell_type": "code",
   "execution_count": 9,
   "metadata": {},
   "outputs": [],
   "source": [
    "# replace any NaN values with 0\n",
    "df_final.replace(np.NaN, 0, inplace=True)"
   ]
  },
  {
   "cell_type": "code",
   "execution_count": 11,
   "metadata": {},
   "outputs": [],
   "source": [
    "#output final dataset to csv \n",
    "df_final.to_csv('player_dataset.csv',index=False)"
   ]
  },
  {
   "cell_type": "markdown",
   "metadata": {},
   "source": [
    "Can now delete 'true.csv' and cut 'player_dataset.csv' into main directory"
   ]
  }
 ],
 "metadata": {
  "kernelspec": {
   "display_name": "Python 3",
   "language": "python",
   "name": "python3"
  },
  "language_info": {
   "codemirror_mode": {
    "name": "ipython",
    "version": 3
   },
   "file_extension": ".py",
   "mimetype": "text/x-python",
   "name": "python",
   "nbconvert_exporter": "python",
   "pygments_lexer": "ipython3",
   "version": "3.7.6"
  }
 },
 "nbformat": 4,
 "nbformat_minor": 2
}
